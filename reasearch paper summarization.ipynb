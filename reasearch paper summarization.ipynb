{
 "cells": [
  {
   "cell_type": "code",
   "execution_count": 1,
   "id": "06f24cce",
   "metadata": {},
   "outputs": [],
   "source": [
    "from transformers import pipeline\n",
    "from bs4 import BeautifulSoup\n",
    "import requests\n",
    "from transformers import PegasusForConditionalGeneration, PegasusTokenizer"
   ]
  },
  {
   "cell_type": "code",
   "execution_count": 2,
   "id": "6c515e4f",
   "metadata": {},
   "outputs": [],
   "source": [
    "import fitz"
   ]
  },
  {
   "cell_type": "code",
   "execution_count": 3,
   "id": "2631bb3a",
   "metadata": {},
   "outputs": [
    {
     "name": "stderr",
     "output_type": "stream",
     "text": [
      "No model was supplied, defaulted to sshleifer/distilbart-cnn-12-6 (https://huggingface.co/sshleifer/distilbart-cnn-12-6)\n"
     ]
    }
   ],
   "source": [
    "summarizer = pipeline(\"summarization\")"
   ]
  },
  {
   "cell_type": "code",
   "execution_count": 4,
   "id": "835871fc",
   "metadata": {},
   "outputs": [],
   "source": [
    "with fitz.open(\"paper1.pdf\") as doc:\n",
    "    ARTICLE = \"\"\n",
    "    for page in doc:\n",
    "        ARTICLE += page.get_text()"
   ]
  },
  {
   "cell_type": "code",
   "execution_count": 5,
   "id": "db364be5",
   "metadata": {},
   "outputs": [
    {
     "data": {
      "text/plain": [
       "'2022 IEEE India Council International Subsections Conference (INDISCON) \\n \\n978-1-6654-6601-1/22/$31.00 ©2022 IEEE \\nPredictor Analysis and Proliferation of Fertility and \\nProduction for Agriculturalists \\n \\nC.Shyamala Kumari \\nComputer Science and Engineering,  \\nVel Tech Rangarajan Dr.Sagunthala \\nR&D Institute of Science and \\nTechnology \\nChennai, India \\nshyamalakumaric@veltech.edu.in \\nShourjya Hazra  \\nComputer Science and Engineering,  \\nVel Tech Rangarajan Dr.Sagunthala \\nR&D Institute of Science and \\nTechnology \\nChennai, India \\nshourjya001@gmail.com \\nRohit Kumar \\nComputer Science and Engineering, \\nVel Tech Rangarajan Dr.Sagunthala \\nR&D Institute of Science and \\nTechnology  \\nChennai, India \\nrkrohit14092@gmail.com \\nMayurakshya Paul \\nComputer Science and Engineering, \\nVel Tech Rangarajan Dr.Sagunthala \\nR&D Institute of Science and \\nTechnology \\nChennai, India \\nmayurakshyapaul@gmail.com\\nSaurav Kumar Gupta \\nComputer Science and Engineering,  \\nVel Tech Rangarajan Dr.Sagunthala \\nR&D Institute of Science and \\nTechnology \\nChennai, India \\nguptasaurav823@gmail.com \\nAbstract— The world of technical innovation and \\nexperiments have brought a new technological movement all \\nover the world. Despite of it a major portion of the agribusiness \\ncommunity is far away from technical aspects that can make \\nfarming easy and efficient. About 60% of total agriculturalists \\nin India are poor and can’t afford heavy robotics to take \\nadvantage of the technology. Farmers are sometimes oblivious \\nof the disease in the crop and the market prices of the products. \\nThis is why they are paid less than what the actual cost is. As a \\nsolution, a multilingual platform has been proposed which can \\nbe accessed by all people and from where the farmers can easily \\nget to know the current price of their crops in the market. The \\nsystem is fed with reliable data from the government and is built \\non the anaconda platform under the TensorFlow environment. \\nThe system helps in the prognosis of crop diseases and also \\nfurnishes the reason and cure for the disease. It is also helpful to \\nget recommendations about the correct fertilizer as per the \\nquality of soil and other considerations. The system will be very \\nmuch helpful for poor farmers who can’t afford pricey tools to \\nenhance their crop production. Also, it will keep them aware of \\nthe current prices of the crop they are reaping and suggest \\nwhich crop is suitable for which weather condition, which \\nultimately will be a boon for them. \\nKeywords— Agriculture, TensorFlow, Python, Anaconda, \\nDisease Prediction, Fertilizer Prediction, Crop Recommendation \\nI. INTRODUCTION \\nAdvancement in technology has ascertained to be a boon \\nfor various fields including agriculture. But, still, a major part \\nof the farming community in India is either unaware of these \\ntechnologies or they aren’t able to afford them due to immense \\nprices. Since a large part of the Indian population is dependent \\non agriculture, it is important to make them aware of these \\ntechnologies and also to make them easily use these \\ntechnologies. Two major factors that impact the productivity \\nof a crop are soil and weather. With the help of experience, a \\nfarmer can anticipate the crop based on weather accurately but \\nforeseeing the soil quality is very challenging. If one is not \\naware of the quality of soil, he can’t achieve adequate crop \\nproduction. So, it is very important to gain acquaintance with \\nsoil to get a good production. Also, it is necessary to choose a \\ncrop that can grow well in the weather condition of the area.  \\nThe enhancement in the field of machine learning has \\nbrought a revolution in overall surveillance and production. \\nEvery year news about suicides by the poor farmers is seen as \\nthey do not get the appropriate price of the hard work they do \\nto produce the crop. After a survey, it is found that many of \\nthe farmers are unaware of the correct market price of the crop \\nand hence, they are cheated by the middle-men in the market. \\nTo overcome these issues, a platform is required that could not \\nonly tell the current price but also predict the prices of the crop \\nin the upcoming months. So that the farmers can also plan \\nproperly about which crop to grow. Also, it could recommend \\nthe farmers various ways to get better production. \\nII. AIM & OBJECTIVE  \\nThe paper seeks to build and enforce an ML-based system \\nthat can foretell the diseases the plant is suffering from using \\nimages, recommend an appropriate fertilizer for boosting the \\nsoil quality, predict a suitable crop based on the location and \\nweather conditions. The paper aims to build software that \\ncould predict the future prices of the crops and develop an \\nincorporated software for a comprehensive analysis of the \\ncrops on the previous year\\'s data of rainfall and wholesale \\nprice index (WPI). The objective of the paper is to make the \\nfarming community aware of technology advancements and \\nmake heavy technology available to them on an easy platform.  \\nIII. LITERATURE SURVEY  \\n     The authors in the paper have used the notion of K Nearest \\nNeighbor, to enforce the project. [1] The next algorithm which \\nhas been implemented is the Roulette selection methodology \\nand the IGA population evolution concept. The instance is a \\nsupervised model and uses a labeled dataset to comprehend \\nand render crop produce. The major advantage of the concept \\nused is the clarity of the model and the ease of implementation \\nwhile using KNN is also challenging to find the efficient and \\naccurate value of k. The model is used to foreshadow optimal \\nfertilizer for raising the nutrients of the soil. The paper helped \\n978-1-6654-6601-1/22/$31.00 ©2022 IEEE \\n \\nin \\nstudy \\nof \\nKNN \\nmodels \\nand \\nthe \\nworking. \\nThe authors have differed that the improvement of yield \\nproduction can be done through several machine learning \\ntechniques. [2] Tests are carried out on the agricultural dataset. \\nMachine learning classifiers i.e. Random Forest, XGBoost, \\nLogistic Regression, Linear Regression, and ANN are \\nimplemented to find the best classifier that gives reliable \\nforecasts. These machine-learning algorithms are performed \\non Python 3.7 (Jupyter Notebook) using inbuilt libraries: \\nNumpy, Pandas, Scikit-learn built on tensorflow backend. \\nThis paper explained in details about the advanced packages \\nand \\nalgorithms \\nwhich \\ncan \\nbe \\nimplemented.  \\nThe author has used the wavelet analysis technique to \\nsmoothen the data before inaugurating the ARIMA model. [3] \\nThe layered details after the signal decomposition is steady for \\neach layer after the signal decomposition, so the ARIMA \\nmodel can be established directly. In the case of time series \\nthat are also uni-variate, the model is better than the simple \\nARIMA model. In accumulation, this study uses the model to \\npredict the recompense price of soybean meal futures \\nThis paper have superseded the standard convolution with \\ndepth separable convolution, which reduces the parameter \\nnumber and enumeration cost. [4] The implemented models \\nwere trained with an open dataset consisting of 14 different \\nplant species, 38 different categorical disease classes, and \\nhealthy plant leaves. The implemented models performed \\ndisease-classification with accuracy rates of 98.42%, which \\nstood greater than conventional handcrafted-feature-based \\ntechniques. This was useful for the understanding of the \\ndataset \\nand \\nthe \\nfeature \\nhandling.  \\nThe authors stated that the automated detection of diseases in \\nplants is required, as it eases the tedious work of scrutinizing \\nlarge farms and it will detect the disease at an early stage of its \\ncircumstance to minimize further degradation of plants [5]. \\nThe model is an ensemble of pre-trained DenseNet121, \\nEfficientNetB7, and EfficientNet Noisy Student aims to \\nclassify leaves of apple trees into one of the following \\ncategories: healthy, apple scab, apple cedar rust, and multiple \\ndiseases, using its images. Various Image Augmentation \\ntechniques are included to improve the dataset size, and \\nsubsequentially, the model’s accuracy boosts. The proposed \\nmodel can identify leaves with multiple diseases with 90% \\naccuracy and overall 96.25% on the validation dataset is \\naccomplished. The key outcome of this paper was the study of \\nvarious \\nimage \\nargumentation \\ntechniques.  \\nThe paper used the feature selection of the KNN machine \\nlearning algorithm. [6] The ranking method is a basic \\ntechnique of KNN which is useful for multilevel classification \\nused to pick and categorize the salient attributes. The bagging \\ntechnique is a pre-processing method used in this task which \\nhelps to augment the prediction accuracy of any frail classifier \\nlike KNN to predict the crop. All these preprocessing methods \\nhelp to give much more precise results. But while using \\nbagging \\ncan \\ngive \\nan \\ninner \\nloss \\nof \\nthe \\nmodel. \\nThe study in this paper stimulates the premature diagnosis of \\nplant ailments to prevent crop loss and the spread of diseases \\n[7]. A deep learning model is trained here to classify the \\ndiverse plant diseases. CNN model is used due to its enormous \\nsuccess in image-based classification and it provides faster \\nand better factual predictions than manual remark of the plant \\nleaf. The CNN model and pre-trained models such as VGG, \\nResNet, and DenseNet models are trained using the dataset. \\nAmong them, the DenseNet model has attained the highest \\naccuracy \\nof \\n98.27% \\nwhich \\nis \\nconsiderably \\nhigh.  \\nThe authors have examined the Naive Bayes method for \\nurging food crop considering monthly rainfall, temperature, \\nhumidity, and price as attributes. [8] In this paper, NB is used \\nas a classifier for calculating the probability. From a labeled \\nexcel dataset, NB makes the data evaluation and data \\nvalidation. As an advantage of this project, NB is a highly \\nrecommended classifier for its performance with 84.6 percent \\naccuracy. Secondly, Agriculturalists can get a good \\nrecommendation for food crops like paddy, corn, peanuts, etc. \\nnaïve Bayes is one of the famous classifier which can be \\nimplemented with ease, the paper gave its detailed \\ninformation  \\nThe authors used yield forecast for a selected district that is \\noften made by integrating Precipitation, Temperature, and \\nother parameters like season and site. When all the factors are \\nconsidered, Random Forest emerges because of the greatest \\nclassifier. [9] Random forest is the superior prediction \\nalgorithm in comparison to other technologies that are \\nmultiple rectilinear regression and decision trees. The dataset \\nholds tons more variables, directing to more authentic \\npredictions. \\nThe authors have explained the use of time series in the \\nforecasting of the observations that can be made with aid for \\na better commercial result. [10] As per the most delinquent \\nnotices of the government, Kerala is one of the biggest \\nproducers of arecanuts, the work helps the arecanuts farmers \\nin managing their resources for more promising production of \\ncrops with utmost profit based on the prophecy of prices.  \\nBased on several prior works, statistical methods were \\ndominating in foretelling the divergence of prices. But in this \\nwork, LSTM was found to be a more appropriate model for \\nforewarning the prices. \\nIV. MATERIALS AND METHODS \\nThe proposed work was separated into four modules liable \\nfor four operations namely disease prediction, fertilizer \\nprediction, crop recommendation, and future price \\nprediction for crops. Fig. 1 shows the complete synopsis of \\nall the modules. The entire system can be translated to any \\nlanguage making it user-friendly. Different forms of data \\n(both images as well as numbers) have been used to train the \\nmodel. \\nFig.1: Architecture diagram \\nA. DISEASE PREDICTION MODULE \\nThis module is a machine learning model which has been \\ntrained using leaf images of various crops infected with \\n978-1-6654-6601-1/22/$31.00 ©2022 IEEE \\n \\ndifferent kinds of diseases. Fig 2 shows the implementation of \\nthe disease prediction model. The model is trained using the \\nConventional Neural Network (CNN) algorithm The user \\nneeds to upload the image of the infected plant, the module \\nreturns the name of the disease to the user.  Additionally, it \\nrecommends the farmer about the cure of the disease and the \\nreason for the disease. The farmer can keep precautions to \\navoid the disease in the future.   \\n \\n \\nFig. 2: Disease Prediction \\n \\nB. FERTILIZER PREDICTION MODULE \\nThis module deals with the processing of soil mineral \\nvalues which is done using the Naive Bayes algorithm. Fig.3 \\nrepresents the fertilizer prediction module of the system. After \\nprocessing, the model will give the correct fertilizer to boost \\nsoil fertility as an output. Naive Bayes is a classification \\nmethod used in machine learning. It is well known for its fast \\nexecution. The user has to provide the values of soil minerals \\nsuch as Nitrogen (N), Phosphorous (P), and Potassium (K) \\nalong with the expected crop into the system and as an output, \\nthe mineral lagging in the soil along with steps to increase its \\npercentage will be displayed. This includes natural methods as \\nwell as fertilizers. \\n \\n \\n \\nFig. 3: Fertilizer Prediction \\n \\nC. CROP RECOMMENDATION MODULE \\nThis module of the system deals with data concerning \\nweather conditions like average rainfall. Fig.4 depicts the crop \\nrecommendation module for the system. This is done using \\nthe notion of data abstraction. To perform the processing of \\nthese data, K Nearest Neighbor (KNN) algorithm was used to \\ngive the best crop corresponding to the weather conditions. \\nKNN is a supervised algorithm that can predict data using \\nfeature similarity. Here, the user has to select a place where he \\nwants to do farming and provide mineral values like N, P, and \\nK along with the average rainfall of that area. This will be the \\ninput for the system. After processing all the information, the \\nbest suitable crop related to that location and weather \\ncondition will be recommended as the output. \\n \\n \\nFig. 4: Crop Recommendation module \\nD. FUTURE  PRICE PREDICTION MODULE \\nThis module has been introduced to make the user aware \\nof the current market price of crops in the market. The data \\nused has been taken from a government website data.gov.in. \\nIn this module, the user has to select a particular crop, and all \\nthe details like current price, export locations, and its lowest, \\nas well as highest price in that year, will be displayed. Also, \\nin the interface of selecting the crop, the list of crops with the \\nhighest price is displayed as Top gainers and the crops with \\nthe least price are displayed as Top losers. Fig.5 represents the \\nhome page of the price prediction module of the system. It \\nshows the data in form of charts and graphs which makes the \\nvisualization easy and convenient. In Fig. 6 the graph shows \\nthe future market price which is generated by trends in the \\nprevious year\\'s data of the particular crop. Also, the options of \\ngeneral data of the crop help the user to know about the export, \\nimport, and other essential information of the crop in detail. \\n \\nFig. 5: Future Price Prediction module homepage \\n \\nFig. 6: Price visualization \\n978-1-6654-6601-1/22/$31.00 ©2022 IEEE \\n \\nE. WEBSITE OVERVIEW \\nThe website is built using HTML, CSS, and JS. Google \\nTranslate API has been used to make the website multilingual. \\nThe website consists of various tabs namely price trends, shop, \\nand services which refer to the related modules. Fig.7 shows \\nthe interface of the website. Using the translate button at the \\ntop right corner, the website can be translated into any \\nlanguage of the world.  \\n \\n \\nV. COMPARATIVE STUDY \\n \\nTable 1: Accuracy comparison of various algorithms used for \\nrecommendation. \\n \\nS.No \\nAlgorithms \\nAccuracy \\n1 \\nDecision Tree \\n90.0% \\n2 \\nNaive Bayes \\n99.0% \\n3 \\nSVM \\n97.6% \\n4 \\nLogistic Regression \\n95.2% \\n5 \\nRandom Forest \\n99.3% \\n6 \\nXGBoost \\n99.1% \\n \\nThe recommendation model was trained using various \\nclassifier which has been depicted in table 1. Based on the \\ndataset chosen for the purpose of classification. The models \\ngave various accuracy. Among which Random Forest was \\nchosen for the best accuracy of 99.3%. \\nVI. \\nCONCLUSION AND FUTURE WORKS \\n \\nThe ultimate focus of this paper was to make the farming \\ncommunity aware of the advancing technologies in \\nagriculture. Being unaware of technology and not using it is \\nokay but being aware of something beneficial and not using \\nit due to huge prices is very unfair. So, to remove this gap \\nbetween farmers and technology, the system has been \\nproposed as a solution where people can know more about \\nagricultural tips.  The whole project is completely based on \\nML algorithms which have been proved to be efficient. In \\ncompletion, it can be concluded that this paper is a great step \\nfor rural upliftment. In the future, the system can be combined \\nwith drone technology to perform pesticide spraying only at \\nthe target plant. This project can add up with UAV \\ntechnology to continuously monitor our field and crop \\nremotely. \\nVII. ACKNOWLEDGEMENT \\nThe authors are grateful to Department of Computer Science \\nand Engineering, Vel Tech Dr. Rangarajan Dr. Sagunthala \\nR&D Institute of Science and Technology, Chennai. \\n \\nREFERENCES \\n \\n[1] Usman Ahmed, Jerry Chun-Wei Lin, Gautam Srivastava, Youcef \\nDjenouri,A nutrient recommendation system for soil fertilization based \\non \\nevolutionary \\ncomputation,Computers \\nand \\nElectronics \\nin \\nAgriculture,ISSN \\n0168-1699 \\nhttps://doi.org/10.1016/j.compag.2021.106407  \\n[2] RThomas van Klompenburg, Ayalew Kassahun, Cagatay Catal, Crop \\nyield prediction using machine learning: A systematic literature review, \\nComputers and Electronics in Agriculture, Volume 177, 2020, 105709, \\nISSN 0168-1699, https://doi.org/10.1016/j.compag.2020.105709. \\n[3] Zhao, H. Futures price prediction of agricultural products based on \\nmachine learning. Neural Comput Applic 33, 837–850 (2021). \\nhttps://doi.org/10.1007/s00521-020-05250-6 \\n[4] Hassan, S.M., A.K. Maji,  Michał Jasi ´nski, Zbigniew Leonowicz and \\nElzbieta Jasi ´nska, (2021),\"Identification of Plant-Leaf Diseases Using \\nCNN and Transfer-Learning Approach\", Department of Information \\nTechnology, North Eastern Hill University, pp. 477-482,  doi: \\n10.3390/electronics10121388 \\n[5] P. Bansal, Rahul Kumar, and Somesh Kumar,(2021), \"Disease \\nDetection in Apple Leaves Using Deep Convolutional Neural \\nNetwork\", ABV-Indian Institute of Information Technology & \\nManagement \\nGwalior, \\nvol-11(7), \\npp. \\n846-852, \\ndoi: \\n10.3390/agriculture11070617 \\n[6] G. Mariammal, A. Suruliandi, S. P. Raja and E. Poongothai, \\n”Prediction of Land Suitability for Crop Cultivation Based on Soil and \\nEnvironmental Characteristics Using Modified Recursive Feature \\nElimination Technique With Various Classifiers,” in IEEE \\nTransactions on Computational Social Systems, vol. 8, no. 5, pp. 1132-\\n1142, Oct. 2021, doi: 10.1109/TCSS.2021.3074534 \\n[7] A. KP and J. Anitha,(2021), \"Plant disease classification using deep \\nlearning,\" , 3rd International Conference on Signal Processing and \\nCommunication \\n(ICPSC), \\npp. \\n407-411, \\ndoi: \\n10.1109/ICSPC51351.2021.9451696 \\n[8] Setiadi, Tedy Noviyanto, Fiftin Hardianto, Hendika Tarmuji, Ali \\nFadlil, Abdul Wibowo, Merlinda. (2020). Implementation Of Na¨ıve \\nBayes Method In Food Crops Planting Recommendation. International \\nJournal of Scientific Technology Research. 9. 4750-4755. ISSUE 02, \\nFEBRUARY 2020, ISSN 2277-8616 \\n[9] Pallavi Kamath, Pallavi Patil, Shrilatha S, Sushma, Sowmya S, Crop \\nYield Forecasting using Data Mining, Global Transitions Proceedings, \\n2021, ISSN 2666-285X, https://doi.org/10.1016/j.gltp.2021.08.008 \\n[10] Kiran M. Sabu, T.K. Manoj Kumar, Predictive analytics in Agriculture: \\nForecasting prices of Arecanuts in Kerala, Procedia Computer Science, \\nVolume \\n171,2020, \\nPages \\n699-708, \\nISSN \\n1877- \\n0509, \\nhttps://doi.org/10.1016/j.procs.2020.04.076. \\n \\n \\n'"
      ]
     },
     "execution_count": 5,
     "metadata": {},
     "output_type": "execute_result"
    }
   ],
   "source": [
    "ARTICLE"
   ]
  },
  {
   "cell_type": "code",
   "execution_count": 6,
   "id": "fe0dd1d0",
   "metadata": {},
   "outputs": [],
   "source": [
    "max_chunk = 500"
   ]
  },
  {
   "cell_type": "code",
   "execution_count": 7,
   "id": "032cc219",
   "metadata": {},
   "outputs": [],
   "source": [
    "ARTICLE = ARTICLE.replace('.', '.<eos>')\n",
    "ARTICLE = ARTICLE.replace('?', '?<eos>')\n",
    "ARTICLE = ARTICLE.replace('!', '!<eos>')\n",
    "ARTICLE = ARTICLE.replace('\\n',' ')"
   ]
  },
  {
   "cell_type": "code",
   "execution_count": 8,
   "id": "2debfef3",
   "metadata": {},
   "outputs": [
    {
     "data": {
      "text/plain": [
       "'2022 IEEE India Council International Subsections Conference (INDISCON)    978-1-6654-6601-1/22/$31.<eos>00 ©2022 IEEE  Predictor Analysis and Proliferation of Fertility and  Production for Agriculturalists    C.<eos>Shyamala Kumari  Computer Science and Engineering,   Vel Tech Rangarajan Dr.<eos>Sagunthala  R&D Institute of Science and  Technology  Chennai, India  shyamalakumaric@veltech.<eos>edu.<eos>in  Shourjya Hazra   Computer Science and Engineering,   Vel Tech Rangarajan Dr.<eos>Sagunthala  R&D Institute of Science and  Technology  Chennai, India  shourjya001@gmail.<eos>com  Rohit Kumar  Computer Science and Engineering,  Vel Tech Rangarajan Dr.<eos>Sagunthala  R&D Institute of Science and  Technology   Chennai, India  rkrohit14092@gmail.<eos>com  Mayurakshya Paul  Computer Science and Engineering,  Vel Tech Rangarajan Dr.<eos>Sagunthala  R&D Institute of Science and  Technology  Chennai, India  mayurakshyapaul@gmail.<eos>com Saurav Kumar Gupta  Computer Science and Engineering,   Vel Tech Rangarajan Dr.<eos>Sagunthala  R&D Institute of Science and  Technology  Chennai, India  guptasaurav823@gmail.<eos>com  Abstract— The world of technical innovation and  experiments have brought a new technological movement all  over the world.<eos> Despite of it a major portion of the agribusiness  community is far away from technical aspects that can make  farming easy and efficient.<eos> About 60% of total agriculturalists  in India are poor and can’t afford heavy robotics to take  advantage of the technology.<eos> Farmers are sometimes oblivious  of the disease in the crop and the market prices of the products.<eos>  This is why they are paid less than what the actual cost is.<eos> As a  solution, a multilingual platform has been proposed which can  be accessed by all people and from where the farmers can easily  get to know the current price of their crops in the market.<eos> The  system is fed with reliable data from the government and is built  on the anaconda platform under the TensorFlow environment.<eos>  The system helps in the prognosis of crop diseases and also  furnishes the reason and cure for the disease.<eos> It is also helpful to  get recommendations about the correct fertilizer as per the  quality of soil and other considerations.<eos> The system will be very  much helpful for poor farmers who can’t afford pricey tools to  enhance their crop production.<eos> Also, it will keep them aware of  the current prices of the crop they are reaping and suggest  which crop is suitable for which weather condition, which  ultimately will be a boon for them.<eos>  Keywords— Agriculture, TensorFlow, Python, Anaconda,  Disease Prediction, Fertilizer Prediction, Crop Recommendation  I.<eos> INTRODUCTION  Advancement in technology has ascertained to be a boon  for various fields including agriculture.<eos> But, still, a major part  of the farming community in India is either unaware of these  technologies or they aren’t able to afford them due to immense  prices.<eos> Since a large part of the Indian population is dependent  on agriculture, it is important to make them aware of these  technologies and also to make them easily use these  technologies.<eos> Two major factors that impact the productivity  of a crop are soil and weather.<eos> With the help of experience, a  farmer can anticipate the crop based on weather accurately but  foreseeing the soil quality is very challenging.<eos> If one is not  aware of the quality of soil, he can’t achieve adequate crop  production.<eos> So, it is very important to gain acquaintance with  soil to get a good production.<eos> Also, it is necessary to choose a  crop that can grow well in the weather condition of the area.<eos>   The enhancement in the field of machine learning has  brought a revolution in overall surveillance and production.<eos>  Every year news about suicides by the poor farmers is seen as  they do not get the appropriate price of the hard work they do  to produce the crop.<eos> After a survey, it is found that many of  the farmers are unaware of the correct market price of the crop  and hence, they are cheated by the middle-men in the market.<eos>  To overcome these issues, a platform is required that could not  only tell the current price but also predict the prices of the crop  in the upcoming months.<eos> So that the farmers can also plan  properly about which crop to grow.<eos> Also, it could recommend  the farmers various ways to get better production.<eos>  II.<eos> AIM & OBJECTIVE   The paper seeks to build and enforce an ML-based system  that can foretell the diseases the plant is suffering from using  images, recommend an appropriate fertilizer for boosting the  soil quality, predict a suitable crop based on the location and  weather conditions.<eos> The paper aims to build software that  could predict the future prices of the crops and develop an  incorporated software for a comprehensive analysis of the  crops on the previous year\\'s data of rainfall and wholesale  price index (WPI).<eos> The objective of the paper is to make the  farming community aware of technology advancements and  make heavy technology available to them on an easy platform.<eos>   III.<eos> LITERATURE SURVEY        The authors in the paper have used the notion of K Nearest  Neighbor, to enforce the project.<eos> [1] The next algorithm which  has been implemented is the Roulette selection methodology  and the IGA population evolution concept.<eos> The instance is a  supervised model and uses a labeled dataset to comprehend  and render crop produce.<eos> The major advantage of the concept  used is the clarity of the model and the ease of implementation  while using KNN is also challenging to find the efficient and  accurate value of k.<eos> The model is used to foreshadow optimal  fertilizer for raising the nutrients of the soil.<eos> The paper helped  978-1-6654-6601-1/22/$31.<eos>00 ©2022 IEEE    in  study  of  KNN  models  and  the  working.<eos>  The authors have differed that the improvement of yield  production can be done through several machine learning  techniques.<eos> [2] Tests are carried out on the agricultural dataset.<eos>  Machine learning classifiers i.<eos>e.<eos> Random Forest, XGBoost,  Logistic Regression, Linear Regression, and ANN are  implemented to find the best classifier that gives reliable  forecasts.<eos> These machine-learning algorithms are performed  on Python 3.<eos>7 (Jupyter Notebook) using inbuilt libraries:  Numpy, Pandas, Scikit-learn built on tensorflow backend.<eos>  This paper explained in details about the advanced packages  and  algorithms  which  can  be  implemented.<eos>   The author has used the wavelet analysis technique to  smoothen the data before inaugurating the ARIMA model.<eos> [3]  The layered details after the signal decomposition is steady for  each layer after the signal decomposition, so the ARIMA  model can be established directly.<eos> In the case of time series  that are also uni-variate, the model is better than the simple  ARIMA model.<eos> In accumulation, this study uses the model to  predict the recompense price of soybean meal futures  This paper have superseded the standard convolution with  depth separable convolution, which reduces the parameter  number and enumeration cost.<eos> [4] The implemented models  were trained with an open dataset consisting of 14 different  plant species, 38 different categorical disease classes, and  healthy plant leaves.<eos> The implemented models performed  disease-classification with accuracy rates of 98.<eos>42%, which  stood greater than conventional handcrafted-feature-based  techniques.<eos> This was useful for the understanding of the  dataset  and  the  feature  handling.<eos>   The authors stated that the automated detection of diseases in  plants is required, as it eases the tedious work of scrutinizing  large farms and it will detect the disease at an early stage of its  circumstance to minimize further degradation of plants [5].<eos>  The model is an ensemble of pre-trained DenseNet121,  EfficientNetB7, and EfficientNet Noisy Student aims to  classify leaves of apple trees into one of the following  categories: healthy, apple scab, apple cedar rust, and multiple  diseases, using its images.<eos> Various Image Augmentation  techniques are included to improve the dataset size, and  subsequentially, the model’s accuracy boosts.<eos> The proposed  model can identify leaves with multiple diseases with 90%  accuracy and overall 96.<eos>25% on the validation dataset is  accomplished.<eos> The key outcome of this paper was the study of  various  image  argumentation  techniques.<eos>   The paper used the feature selection of the KNN machine  learning algorithm.<eos> [6] The ranking method is a basic  technique of KNN which is useful for multilevel classification  used to pick and categorize the salient attributes.<eos> The bagging  technique is a pre-processing method used in this task which  helps to augment the prediction accuracy of any frail classifier  like KNN to predict the crop.<eos> All these preprocessing methods  help to give much more precise results.<eos> But while using  bagging  can  give  an  inner  loss  of  the  model.<eos>  The study in this paper stimulates the premature diagnosis of  plant ailments to prevent crop loss and the spread of diseases  [7].<eos> A deep learning model is trained here to classify the  diverse plant diseases.<eos> CNN model is used due to its enormous  success in image-based classification and it provides faster  and better factual predictions than manual remark of the plant  leaf.<eos> The CNN model and pre-trained models such as VGG,  ResNet, and DenseNet models are trained using the dataset.<eos>  Among them, the DenseNet model has attained the highest  accuracy  of  98.<eos>27%  which  is  considerably  high.<eos>   The authors have examined the Naive Bayes method for  urging food crop considering monthly rainfall, temperature,  humidity, and price as attributes.<eos> [8] In this paper, NB is used  as a classifier for calculating the probability.<eos> From a labeled  excel dataset, NB makes the data evaluation and data  validation.<eos> As an advantage of this project, NB is a highly  recommended classifier for its performance with 84.<eos>6 percent  accuracy.<eos> Secondly, Agriculturalists can get a good  recommendation for food crops like paddy, corn, peanuts, etc.<eos>  naïve Bayes is one of the famous classifier which can be  implemented with ease, the paper gave its detailed  information   The authors used yield forecast for a selected district that is  often made by integrating Precipitation, Temperature, and  other parameters like season and site.<eos> When all the factors are  considered, Random Forest emerges because of the greatest  classifier.<eos> [9] Random forest is the superior prediction  algorithm in comparison to other technologies that are  multiple rectilinear regression and decision trees.<eos> The dataset  holds tons more variables, directing to more authentic  predictions.<eos>  The authors have explained the use of time series in the  forecasting of the observations that can be made with aid for  a better commercial result.<eos> [10] As per the most delinquent  notices of the government, Kerala is one of the biggest  producers of arecanuts, the work helps the arecanuts farmers  in managing their resources for more promising production of  crops with utmost profit based on the prophecy of prices.<eos>   Based on several prior works, statistical methods were  dominating in foretelling the divergence of prices.<eos> But in this  work, LSTM was found to be a more appropriate model for  forewarning the prices.<eos>  IV.<eos> MATERIALS AND METHODS  The proposed work was separated into four modules liable  for four operations namely disease prediction, fertilizer  prediction, crop recommendation, and future price  prediction for crops.<eos> Fig.<eos> 1 shows the complete synopsis of  all the modules.<eos> The entire system can be translated to any  language making it user-friendly.<eos> Different forms of data  (both images as well as numbers) have been used to train the  model.<eos>  Fig.<eos>1: Architecture diagram  A.<eos> DISEASE PREDICTION MODULE  This module is a machine learning model which has been  trained using leaf images of various crops infected with  978-1-6654-6601-1/22/$31.<eos>00 ©2022 IEEE    different kinds of diseases.<eos> Fig 2 shows the implementation of  the disease prediction model.<eos> The model is trained using the  Conventional Neural Network (CNN) algorithm The user  needs to upload the image of the infected plant, the module  returns the name of the disease to the user.<eos>  Additionally, it  recommends the farmer about the cure of the disease and the  reason for the disease.<eos> The farmer can keep precautions to  avoid the disease in the future.<eos>        Fig.<eos> 2: Disease Prediction    B.<eos> FERTILIZER PREDICTION MODULE  This module deals with the processing of soil mineral  values which is done using the Naive Bayes algorithm.<eos> Fig.<eos>3  represents the fertilizer prediction module of the system.<eos> After  processing, the model will give the correct fertilizer to boost  soil fertility as an output.<eos> Naive Bayes is a classification  method used in machine learning.<eos> It is well known for its fast  execution.<eos> The user has to provide the values of soil minerals  such as Nitrogen (N), Phosphorous (P), and Potassium (K)  along with the expected crop into the system and as an output,  the mineral lagging in the soil along with steps to increase its  percentage will be displayed.<eos> This includes natural methods as  well as fertilizers.<eos>        Fig.<eos> 3: Fertilizer Prediction    C.<eos> CROP RECOMMENDATION MODULE  This module of the system deals with data concerning  weather conditions like average rainfall.<eos> Fig.<eos>4 depicts the crop  recommendation module for the system.<eos> This is done using  the notion of data abstraction.<eos> To perform the processing of  these data, K Nearest Neighbor (KNN) algorithm was used to  give the best crop corresponding to the weather conditions.<eos>  KNN is a supervised algorithm that can predict data using  feature similarity.<eos> Here, the user has to select a place where he  wants to do farming and provide mineral values like N, P, and  K along with the average rainfall of that area.<eos> This will be the  input for the system.<eos> After processing all the information, the  best suitable crop related to that location and weather  condition will be recommended as the output.<eos>      Fig.<eos> 4: Crop Recommendation module  D.<eos> FUTURE  PRICE PREDICTION MODULE  This module has been introduced to make the user aware  of the current market price of crops in the market.<eos> The data  used has been taken from a government website data.<eos>gov.<eos>in.<eos>  In this module, the user has to select a particular crop, and all  the details like current price, export locations, and its lowest,  as well as highest price in that year, will be displayed.<eos> Also,  in the interface of selecting the crop, the list of crops with the  highest price is displayed as Top gainers and the crops with  the least price are displayed as Top losers.<eos> Fig.<eos>5 represents the  home page of the price prediction module of the system.<eos> It  shows the data in form of charts and graphs which makes the  visualization easy and convenient.<eos> In Fig.<eos> 6 the graph shows  the future market price which is generated by trends in the  previous year\\'s data of the particular crop.<eos> Also, the options of  general data of the crop help the user to know about the export,  import, and other essential information of the crop in detail.<eos>    Fig.<eos> 5: Future Price Prediction module homepage    Fig.<eos> 6: Price visualization  978-1-6654-6601-1/22/$31.<eos>00 ©2022 IEEE    E.<eos> WEBSITE OVERVIEW  The website is built using HTML, CSS, and JS.<eos> Google  Translate API has been used to make the website multilingual.<eos>  The website consists of various tabs namely price trends, shop,  and services which refer to the related modules.<eos> Fig.<eos>7 shows  the interface of the website.<eos> Using the translate button at the  top right corner, the website can be translated into any  language of the world.<eos>       V.<eos> COMPARATIVE STUDY    Table 1: Accuracy comparison of various algorithms used for  recommendation.<eos>    S.<eos>No  Algorithms  Accuracy  1  Decision Tree  90.<eos>0%  2  Naive Bayes  99.<eos>0%  3  SVM  97.<eos>6%  4  Logistic Regression  95.<eos>2%  5  Random Forest  99.<eos>3%  6  XGBoost  99.<eos>1%    The recommendation model was trained using various  classifier which has been depicted in table 1.<eos> Based on the  dataset chosen for the purpose of classification.<eos> The models  gave various accuracy.<eos> Among which Random Forest was  chosen for the best accuracy of 99.<eos>3%.<eos>  VI.<eos>  CONCLUSION AND FUTURE WORKS    The ultimate focus of this paper was to make the farming  community aware of the advancing technologies in  agriculture.<eos> Being unaware of technology and not using it is  okay but being aware of something beneficial and not using  it due to huge prices is very unfair.<eos> So, to remove this gap  between farmers and technology, the system has been  proposed as a solution where people can know more about  agricultural tips.<eos>  The whole project is completely based on  ML algorithms which have been proved to be efficient.<eos> In  completion, it can be concluded that this paper is a great step  for rural upliftment.<eos> In the future, the system can be combined  with drone technology to perform pesticide spraying only at  the target plant.<eos> This project can add up with UAV  technology to continuously monitor our field and crop  remotely.<eos>  VII.<eos> ACKNOWLEDGEMENT  The authors are grateful to Department of Computer Science  and Engineering, Vel Tech Dr.<eos> Rangarajan Dr.<eos> Sagunthala  R&D Institute of Science and Technology, Chennai.<eos>    REFERENCES    [1] Usman Ahmed, Jerry Chun-Wei Lin, Gautam Srivastava, Youcef  Djenouri,A nutrient recommendation system for soil fertilization based  on  evolutionary  computation,Computers  and  Electronics  in  Agriculture,ISSN  0168-1699  https://doi.<eos>org/10.<eos>1016/j.<eos>compag.<eos>2021.<eos>106407   [2] RThomas van Klompenburg, Ayalew Kassahun, Cagatay Catal, Crop  yield prediction using machine learning: A systematic literature review,  Computers and Electronics in Agriculture, Volume 177, 2020, 105709,  ISSN 0168-1699, https://doi.<eos>org/10.<eos>1016/j.<eos>compag.<eos>2020.<eos>105709.<eos>  [3] Zhao, H.<eos> Futures price prediction of agricultural products based on  machine learning.<eos> Neural Comput Applic 33, 837–850 (2021).<eos>  https://doi.<eos>org/10.<eos>1007/s00521-020-05250-6  [4] Hassan, S.<eos>M.<eos>, A.<eos>K.<eos> Maji,  Michał Jasi ´nski, Zbigniew Leonowicz and  Elzbieta Jasi ´nska, (2021),\"Identification of Plant-Leaf Diseases Using  CNN and Transfer-Learning Approach\", Department of Information  Technology, North Eastern Hill University, pp.<eos> 477-482,  doi:  10.<eos>3390/electronics10121388  [5] P.<eos> Bansal, Rahul Kumar, and Somesh Kumar,(2021), \"Disease  Detection in Apple Leaves Using Deep Convolutional Neural  Network\", ABV-Indian Institute of Information Technology &  Management  Gwalior,  vol-11(7),  pp.<eos>  846-852,  doi:  10.<eos>3390/agriculture11070617  [6] G.<eos> Mariammal, A.<eos> Suruliandi, S.<eos> P.<eos> Raja and E.<eos> Poongothai,  ”Prediction of Land Suitability for Crop Cultivation Based on Soil and  Environmental Characteristics Using Modified Recursive Feature  Elimination Technique With Various Classifiers,” in IEEE  Transactions on Computational Social Systems, vol.<eos> 8, no.<eos> 5, pp.<eos> 1132- 1142, Oct.<eos> 2021, doi: 10.<eos>1109/TCSS.<eos>2021.<eos>3074534  [7] A.<eos> KP and J.<eos> Anitha,(2021), \"Plant disease classification using deep  learning,\" , 3rd International Conference on Signal Processing and  Communication  (ICPSC),  pp.<eos>  407-411,  doi:  10.<eos>1109/ICSPC51351.<eos>2021.<eos>9451696  [8] Setiadi, Tedy Noviyanto, Fiftin Hardianto, Hendika Tarmuji, Ali  Fadlil, Abdul Wibowo, Merlinda.<eos> (2020).<eos> Implementation Of Na¨ıve  Bayes Method In Food Crops Planting Recommendation.<eos> International  Journal of Scientific Technology Research.<eos> 9.<eos> 4750-4755.<eos> ISSUE 02,  FEBRUARY 2020, ISSN 2277-8616  [9] Pallavi Kamath, Pallavi Patil, Shrilatha S, Sushma, Sowmya S, Crop  Yield Forecasting using Data Mining, Global Transitions Proceedings,  2021, ISSN 2666-285X, https://doi.<eos>org/10.<eos>1016/j.<eos>gltp.<eos>2021.<eos>08.<eos>008  [10] Kiran M.<eos> Sabu, T.<eos>K.<eos> Manoj Kumar, Predictive analytics in Agriculture:  Forecasting prices of Arecanuts in Kerala, Procedia Computer Science,  Volume  171,2020,  Pages  699-708,  ISSN  1877-  0509,  https://doi.<eos>org/10.<eos>1016/j.<eos>procs.<eos>2020.<eos>04.<eos>076.<eos>      '"
      ]
     },
     "execution_count": 8,
     "metadata": {},
     "output_type": "execute_result"
    }
   ],
   "source": [
    "ARTICLE"
   ]
  },
  {
   "cell_type": "code",
   "execution_count": 9,
   "id": "a42663d4",
   "metadata": {},
   "outputs": [
    {
     "name": "stdout",
     "output_type": "stream",
     "text": [
      "0\n"
     ]
    }
   ],
   "source": [
    "sentences = ARTICLE.split('<eos>')\n",
    "current_chunk = 0 \n",
    "chunks = []\n",
    "for sentence in sentences:\n",
    "    if len(chunks) == current_chunk + 1: \n",
    "        if len(chunks[current_chunk]) + len(sentence.split(' ')) <= max_chunk:\n",
    "            chunks[current_chunk].extend(sentence.split(' '))\n",
    "        else:\n",
    "            current_chunk += 1\n",
    "            chunks.append(sentence.split(' '))\n",
    "    else:\n",
    "        print(current_chunk)\n",
    "        chunks.append(sentence.split(' '))\n",
    "\n",
    "for chunk_id in range(len(chunks)):\n",
    "    chunks[chunk_id] = ' '.join(chunks[chunk_id])"
   ]
  },
  {
   "cell_type": "code",
   "execution_count": 11,
   "id": "c6baa0c1",
   "metadata": {},
   "outputs": [
    {
     "data": {
      "text/plain": [
       "['2022 IEEE India Council International Subsections Conference (INDISCON)    978-1-6654-6601-1/22/$31.',\n",
       " '00 ©2022 IEEE  Predictor Analysis and Proliferation of Fertility and  Production for Agriculturalists    C.',\n",
       " 'Shyamala Kumari  Computer Science and Engineering,   Vel Tech Rangarajan Dr.',\n",
       " 'Sagunthala  R&D Institute of Science and  Technology  Chennai, India  shyamalakumaric@veltech.',\n",
       " 'edu.',\n",
       " 'in  Shourjya Hazra   Computer Science and Engineering,   Vel Tech Rangarajan Dr.',\n",
       " 'Sagunthala  R&D Institute of Science and  Technology  Chennai, India  shourjya001@gmail.',\n",
       " 'com  Rohit Kumar  Computer Science and Engineering,  Vel Tech Rangarajan Dr.',\n",
       " 'Sagunthala  R&D Institute of Science and  Technology   Chennai, India  rkrohit14092@gmail.',\n",
       " 'com  Mayurakshya Paul  Computer Science and Engineering,  Vel Tech Rangarajan Dr.',\n",
       " 'Sagunthala  R&D Institute of Science and  Technology  Chennai, India  mayurakshyapaul@gmail.',\n",
       " 'com Saurav Kumar Gupta  Computer Science and Engineering,   Vel Tech Rangarajan Dr.',\n",
       " 'Sagunthala  R&D Institute of Science and  Technology  Chennai, India  guptasaurav823@gmail.',\n",
       " 'com  Abstract— The world of technical innovation and  experiments have brought a new technological movement all  over the world.',\n",
       " ' Despite of it a major portion of the agribusiness  community is far away from technical aspects that can make  farming easy and efficient.',\n",
       " ' About 60% of total agriculturalists  in India are poor and can’t afford heavy robotics to take  advantage of the technology.',\n",
       " ' Farmers are sometimes oblivious  of the disease in the crop and the market prices of the products.',\n",
       " '  This is why they are paid less than what the actual cost is.',\n",
       " ' As a  solution, a multilingual platform has been proposed which can  be accessed by all people and from where the farmers can easily  get to know the current price of their crops in the market.',\n",
       " ' The  system is fed with reliable data from the government and is built  on the anaconda platform under the TensorFlow environment.',\n",
       " '  The system helps in the prognosis of crop diseases and also  furnishes the reason and cure for the disease.',\n",
       " ' It is also helpful to  get recommendations about the correct fertilizer as per the  quality of soil and other considerations.',\n",
       " ' The system will be very  much helpful for poor farmers who can’t afford pricey tools to  enhance their crop production.',\n",
       " ' Also, it will keep them aware of  the current prices of the crop they are reaping and suggest  which crop is suitable for which weather condition, which  ultimately will be a boon for them.',\n",
       " '  Keywords— Agriculture, TensorFlow, Python, Anaconda,  Disease Prediction, Fertilizer Prediction, Crop Recommendation  I.',\n",
       " ' INTRODUCTION  Advancement in technology has ascertained to be a boon  for various fields including agriculture.',\n",
       " ' But, still, a major part  of the farming community in India is either unaware of these  technologies or they aren’t able to afford them due to immense  prices.',\n",
       " ' Since a large part of the Indian population is dependent  on agriculture, it is important to make them aware of these  technologies and also to make them easily use these  technologies.',\n",
       " ' Two major factors that impact the productivity  of a crop are soil and weather.',\n",
       " ' With the help of experience, a  farmer can anticipate the crop based on weather accurately but  foreseeing the soil quality is very challenging.',\n",
       " ' If one is not  aware of the quality of soil, he can’t achieve adequate crop  production.',\n",
       " ' So, it is very important to gain acquaintance with  soil to get a good production.',\n",
       " ' Also, it is necessary to choose a  crop that can grow well in the weather condition of the area.',\n",
       " '   The enhancement in the field of machine learning has  brought a revolution in overall surveillance and production.',\n",
       " '  Every year news about suicides by the poor farmers is seen as  they do not get the appropriate price of the hard work they do  to produce the crop.',\n",
       " ' After a survey, it is found that many of  the farmers are unaware of the correct market price of the crop  and hence, they are cheated by the middle-men in the market.',\n",
       " '  To overcome these issues, a platform is required that could not  only tell the current price but also predict the prices of the crop  in the upcoming months.',\n",
       " ' So that the farmers can also plan  properly about which crop to grow.',\n",
       " ' Also, it could recommend  the farmers various ways to get better production.',\n",
       " '  II.',\n",
       " ' AIM & OBJECTIVE   The paper seeks to build and enforce an ML-based system  that can foretell the diseases the plant is suffering from using  images, recommend an appropriate fertilizer for boosting the  soil quality, predict a suitable crop based on the location and  weather conditions.',\n",
       " \" The paper aims to build software that  could predict the future prices of the crops and develop an  incorporated software for a comprehensive analysis of the  crops on the previous year's data of rainfall and wholesale  price index (WPI).\",\n",
       " ' The objective of the paper is to make the  farming community aware of technology advancements and  make heavy technology available to them on an easy platform.',\n",
       " '   III.',\n",
       " ' LITERATURE SURVEY        The authors in the paper have used the notion of K Nearest  Neighbor, to enforce the project.',\n",
       " ' [1] The next algorithm which  has been implemented is the Roulette selection methodology  and the IGA population evolution concept.',\n",
       " ' The instance is a  supervised model and uses a labeled dataset to comprehend  and render crop produce.',\n",
       " ' The major advantage of the concept  used is the clarity of the model and the ease of implementation  while using KNN is also challenging to find the efficient and  accurate value of k.',\n",
       " ' The model is used to foreshadow optimal  fertilizer for raising the nutrients of the soil.',\n",
       " ' The paper helped  978-1-6654-6601-1/22/$31.',\n",
       " '00 ©2022 IEEE    in  study  of  KNN  models  and  the  working.',\n",
       " '  The authors have differed that the improvement of yield  production can be done through several machine learning  techniques.',\n",
       " ' [2] Tests are carried out on the agricultural dataset.',\n",
       " '  Machine learning classifiers i.',\n",
       " 'e.',\n",
       " ' Random Forest, XGBoost,  Logistic Regression, Linear Regression, and ANN are  implemented to find the best classifier that gives reliable  forecasts.',\n",
       " ' These machine-learning algorithms are performed  on Python 3.',\n",
       " '7 (Jupyter Notebook) using inbuilt libraries:  Numpy, Pandas, Scikit-learn built on tensorflow backend.',\n",
       " '  This paper explained in details about the advanced packages  and  algorithms  which  can  be  implemented.',\n",
       " '   The author has used the wavelet analysis technique to  smoothen the data before inaugurating the ARIMA model.',\n",
       " ' [3]  The layered details after the signal decomposition is steady for  each layer after the signal decomposition, so the ARIMA  model can be established directly.',\n",
       " ' In the case of time series  that are also uni-variate, the model is better than the simple  ARIMA model.',\n",
       " ' In accumulation, this study uses the model to  predict the recompense price of soybean meal futures  This paper have superseded the standard convolution with  depth separable convolution, which reduces the parameter  number and enumeration cost.',\n",
       " ' [4] The implemented models  were trained with an open dataset consisting of 14 different  plant species, 38 different categorical disease classes, and  healthy plant leaves.',\n",
       " ' The implemented models performed  disease-classification with accuracy rates of 98.',\n",
       " '42%, which  stood greater than conventional handcrafted-feature-based  techniques.',\n",
       " ' This was useful for the understanding of the  dataset  and  the  feature  handling.',\n",
       " '   The authors stated that the automated detection of diseases in  plants is required, as it eases the tedious work of scrutinizing  large farms and it will detect the disease at an early stage of its  circumstance to minimize further degradation of plants [5].',\n",
       " '  The model is an ensemble of pre-trained DenseNet121,  EfficientNetB7, and EfficientNet Noisy Student aims to  classify leaves of apple trees into one of the following  categories: healthy, apple scab, apple cedar rust, and multiple  diseases, using its images.',\n",
       " ' Various Image Augmentation  techniques are included to improve the dataset size, and  subsequentially, the model’s accuracy boosts.',\n",
       " ' The proposed  model can identify leaves with multiple diseases with 90%  accuracy and overall 96.',\n",
       " '25% on the validation dataset is  accomplished.',\n",
       " ' The key outcome of this paper was the study of  various  image  argumentation  techniques.',\n",
       " '   The paper used the feature selection of the KNN machine  learning algorithm.',\n",
       " ' [6] The ranking method is a basic  technique of KNN which is useful for multilevel classification  used to pick and categorize the salient attributes.',\n",
       " ' The bagging  technique is a pre-processing method used in this task which  helps to augment the prediction accuracy of any frail classifier  like KNN to predict the crop.',\n",
       " ' All these preprocessing methods  help to give much more precise results.',\n",
       " ' But while using  bagging  can  give  an  inner  loss  of  the  model.',\n",
       " '  The study in this paper stimulates the premature diagnosis of  plant ailments to prevent crop loss and the spread of diseases  [7].',\n",
       " ' A deep learning model is trained here to classify the  diverse plant diseases.',\n",
       " ' CNN model is used due to its enormous  success in image-based classification and it provides faster  and better factual predictions than manual remark of the plant  leaf.',\n",
       " ' The CNN model and pre-trained models such as VGG,  ResNet, and DenseNet models are trained using the dataset.',\n",
       " '  Among them, the DenseNet model has attained the highest  accuracy  of  98.',\n",
       " '27%  which  is  considerably  high.',\n",
       " '   The authors have examined the Naive Bayes method for  urging food crop considering monthly rainfall, temperature,  humidity, and price as attributes.',\n",
       " ' [8] In this paper, NB is used  as a classifier for calculating the probability.',\n",
       " ' From a labeled  excel dataset, NB makes the data evaluation and data  validation.',\n",
       " ' As an advantage of this project, NB is a highly  recommended classifier for its performance with 84.',\n",
       " '6 percent  accuracy.',\n",
       " ' Secondly, Agriculturalists can get a good  recommendation for food crops like paddy, corn, peanuts, etc.',\n",
       " '  naïve Bayes is one of the famous classifier which can be  implemented with ease, the paper gave its detailed  information   The authors used yield forecast for a selected district that is  often made by integrating Precipitation, Temperature, and  other parameters like season and site.',\n",
       " ' When all the factors are  considered, Random Forest emerges because of the greatest  classifier.',\n",
       " ' [9] Random forest is the superior prediction  algorithm in comparison to other technologies that are  multiple rectilinear regression and decision trees.',\n",
       " ' The dataset  holds tons more variables, directing to more authentic  predictions.',\n",
       " '  The authors have explained the use of time series in the  forecasting of the observations that can be made with aid for  a better commercial result.',\n",
       " ' [10] As per the most delinquent  notices of the government, Kerala is one of the biggest  producers of arecanuts, the work helps the arecanuts farmers  in managing their resources for more promising production of  crops with utmost profit based on the prophecy of prices.',\n",
       " '   Based on several prior works, statistical methods were  dominating in foretelling the divergence of prices.',\n",
       " ' But in this  work, LSTM was found to be a more appropriate model for  forewarning the prices.',\n",
       " '  IV.',\n",
       " ' MATERIALS AND METHODS  The proposed work was separated into four modules liable  for four operations namely disease prediction, fertilizer  prediction, crop recommendation, and future price  prediction for crops.',\n",
       " ' Fig.',\n",
       " ' 1 shows the complete synopsis of  all the modules.',\n",
       " ' The entire system can be translated to any  language making it user-friendly.',\n",
       " ' Different forms of data  (both images as well as numbers) have been used to train the  model.',\n",
       " '  Fig.',\n",
       " '1: Architecture diagram  A.',\n",
       " ' DISEASE PREDICTION MODULE  This module is a machine learning model which has been  trained using leaf images of various crops infected with  978-1-6654-6601-1/22/$31.',\n",
       " '00 ©2022 IEEE    different kinds of diseases.',\n",
       " ' Fig 2 shows the implementation of  the disease prediction model.',\n",
       " ' The model is trained using the  Conventional Neural Network (CNN) algorithm The user  needs to upload the image of the infected plant, the module  returns the name of the disease to the user.',\n",
       " '  Additionally, it  recommends the farmer about the cure of the disease and the  reason for the disease.',\n",
       " ' The farmer can keep precautions to  avoid the disease in the future.',\n",
       " '        Fig.',\n",
       " ' 2: Disease Prediction    B.',\n",
       " ' FERTILIZER PREDICTION MODULE  This module deals with the processing of soil mineral  values which is done using the Naive Bayes algorithm.',\n",
       " ' Fig.',\n",
       " '3  represents the fertilizer prediction module of the system.',\n",
       " ' After  processing, the model will give the correct fertilizer to boost  soil fertility as an output.',\n",
       " ' Naive Bayes is a classification  method used in machine learning.',\n",
       " ' It is well known for its fast  execution.',\n",
       " ' The user has to provide the values of soil minerals  such as Nitrogen (N), Phosphorous (P), and Potassium (K)  along with the expected crop into the system and as an output,  the mineral lagging in the soil along with steps to increase its  percentage will be displayed.',\n",
       " ' This includes natural methods as  well as fertilizers.',\n",
       " '        Fig.',\n",
       " ' 3: Fertilizer Prediction    C.',\n",
       " ' CROP RECOMMENDATION MODULE  This module of the system deals with data concerning  weather conditions like average rainfall.',\n",
       " ' Fig.',\n",
       " '4 depicts the crop  recommendation module for the system.',\n",
       " ' This is done using  the notion of data abstraction.',\n",
       " ' To perform the processing of  these data, K Nearest Neighbor (KNN) algorithm was used to  give the best crop corresponding to the weather conditions.',\n",
       " '  KNN is a supervised algorithm that can predict data using  feature similarity.',\n",
       " ' Here, the user has to select a place where he  wants to do farming and provide mineral values like N, P, and  K along with the average rainfall of that area.',\n",
       " ' This will be the  input for the system.',\n",
       " ' After processing all the information, the  best suitable crop related to that location and weather  condition will be recommended as the output.',\n",
       " '      Fig.',\n",
       " ' 4: Crop Recommendation module  D.',\n",
       " ' FUTURE  PRICE PREDICTION MODULE  This module has been introduced to make the user aware  of the current market price of crops in the market.',\n",
       " ' The data  used has been taken from a government website data.',\n",
       " 'gov.',\n",
       " 'in.',\n",
       " '  In this module, the user has to select a particular crop, and all  the details like current price, export locations, and its lowest,  as well as highest price in that year, will be displayed.',\n",
       " ' Also,  in the interface of selecting the crop, the list of crops with the  highest price is displayed as Top gainers and the crops with  the least price are displayed as Top losers.',\n",
       " ' Fig.',\n",
       " '5 represents the  home page of the price prediction module of the system.',\n",
       " ' It  shows the data in form of charts and graphs which makes the  visualization easy and convenient.',\n",
       " ' In Fig.',\n",
       " \" 6 the graph shows  the future market price which is generated by trends in the  previous year's data of the particular crop.\",\n",
       " ' Also, the options of  general data of the crop help the user to know about the export,  import, and other essential information of the crop in detail.',\n",
       " '    Fig.',\n",
       " ' 5: Future Price Prediction module homepage    Fig.',\n",
       " ' 6: Price visualization  978-1-6654-6601-1/22/$31.',\n",
       " '00 ©2022 IEEE    E.',\n",
       " ' WEBSITE OVERVIEW  The website is built using HTML, CSS, and JS.',\n",
       " ' Google  Translate API has been used to make the website multilingual.',\n",
       " '  The website consists of various tabs namely price trends, shop,  and services which refer to the related modules.',\n",
       " ' Fig.',\n",
       " '7 shows  the interface of the website.',\n",
       " ' Using the translate button at the  top right corner, the website can be translated into any  language of the world.',\n",
       " '       V.',\n",
       " ' COMPARATIVE STUDY    Table 1: Accuracy comparison of various algorithms used for  recommendation.',\n",
       " '    S.',\n",
       " 'No  Algorithms  Accuracy  1  Decision Tree  90.',\n",
       " '0%  2  Naive Bayes  99.',\n",
       " '0%  3  SVM  97.',\n",
       " '6%  4  Logistic Regression  95.',\n",
       " '2%  5  Random Forest  99.',\n",
       " '3%  6  XGBoost  99.',\n",
       " '1%    The recommendation model was trained using various  classifier which has been depicted in table 1.',\n",
       " ' Based on the  dataset chosen for the purpose of classification.',\n",
       " ' The models  gave various accuracy.',\n",
       " ' Among which Random Forest was  chosen for the best accuracy of 99.',\n",
       " '3%.',\n",
       " '  VI.',\n",
       " '  CONCLUSION AND FUTURE WORKS    The ultimate focus of this paper was to make the farming  community aware of the advancing technologies in  agriculture.',\n",
       " ' Being unaware of technology and not using it is  okay but being aware of something beneficial and not using  it due to huge prices is very unfair.',\n",
       " ' So, to remove this gap  between farmers and technology, the system has been  proposed as a solution where people can know more about  agricultural tips.',\n",
       " '  The whole project is completely based on  ML algorithms which have been proved to be efficient.',\n",
       " ' In  completion, it can be concluded that this paper is a great step  for rural upliftment.',\n",
       " ' In the future, the system can be combined  with drone technology to perform pesticide spraying only at  the target plant.',\n",
       " ' This project can add up with UAV  technology to continuously monitor our field and crop  remotely.',\n",
       " '  VII.',\n",
       " ' ACKNOWLEDGEMENT  The authors are grateful to Department of Computer Science  and Engineering, Vel Tech Dr.',\n",
       " ' Rangarajan Dr.',\n",
       " ' Sagunthala  R&D Institute of Science and Technology, Chennai.',\n",
       " '    REFERENCES    [1] Usman Ahmed, Jerry Chun-Wei Lin, Gautam Srivastava, Youcef  Djenouri,A nutrient recommendation system for soil fertilization based  on  evolutionary  computation,Computers  and  Electronics  in  Agriculture,ISSN  0168-1699  https://doi.',\n",
       " 'org/10.',\n",
       " '1016/j.',\n",
       " 'compag.',\n",
       " '2021.',\n",
       " '106407   [2] RThomas van Klompenburg, Ayalew Kassahun, Cagatay Catal, Crop  yield prediction using machine learning: A systematic literature review,  Computers and Electronics in Agriculture, Volume 177, 2020, 105709,  ISSN 0168-1699, https://doi.',\n",
       " 'org/10.',\n",
       " '1016/j.',\n",
       " 'compag.',\n",
       " '2020.',\n",
       " '105709.',\n",
       " '  [3] Zhao, H.',\n",
       " ' Futures price prediction of agricultural products based on  machine learning.',\n",
       " ' Neural Comput Applic 33, 837–850 (2021).',\n",
       " '  https://doi.',\n",
       " 'org/10.',\n",
       " '1007/s00521-020-05250-6  [4] Hassan, S.',\n",
       " 'M.',\n",
       " ', A.',\n",
       " 'K.',\n",
       " ' Maji,  Michał Jasi ´nski, Zbigniew Leonowicz and  Elzbieta Jasi ´nska, (2021),\"Identification of Plant-Leaf Diseases Using  CNN and Transfer-Learning Approach\", Department of Information  Technology, North Eastern Hill University, pp.',\n",
       " ' 477-482,  doi:  10.',\n",
       " '3390/electronics10121388  [5] P.',\n",
       " ' Bansal, Rahul Kumar, and Somesh Kumar,(2021), \"Disease  Detection in Apple Leaves Using Deep Convolutional Neural  Network\", ABV-Indian Institute of Information Technology &  Management  Gwalior,  vol-11(7),  pp.',\n",
       " '  846-852,  doi:  10.',\n",
       " '3390/agriculture11070617  [6] G.',\n",
       " ' Mariammal, A.',\n",
       " ' Suruliandi, S.',\n",
       " ' P.',\n",
       " ' Raja and E.',\n",
       " ' Poongothai,  ”Prediction of Land Suitability for Crop Cultivation Based on Soil and  Environmental Characteristics Using Modified Recursive Feature  Elimination Technique With Various Classifiers,” in IEEE  Transactions on Computational Social Systems, vol.',\n",
       " ' 8, no.',\n",
       " ' 5, pp.',\n",
       " ' 1132- 1142, Oct.',\n",
       " ' 2021, doi: 10.',\n",
       " '1109/TCSS.',\n",
       " '2021.',\n",
       " '3074534  [7] A.',\n",
       " ' KP and J.',\n",
       " ' Anitha,(2021), \"Plant disease classification using deep  learning,\" , 3rd International Conference on Signal Processing and  Communication  (ICPSC),  pp.',\n",
       " '  407-411,  doi:  10.',\n",
       " '1109/ICSPC51351.',\n",
       " '2021.',\n",
       " '9451696  [8] Setiadi, Tedy Noviyanto, Fiftin Hardianto, Hendika Tarmuji, Ali  Fadlil, Abdul Wibowo, Merlinda.',\n",
       " ' (2020).',\n",
       " ' Implementation Of Na¨ıve  Bayes Method In Food Crops Planting Recommendation.',\n",
       " ' International  Journal of Scientific Technology Research.',\n",
       " ' 9.',\n",
       " ' 4750-4755.',\n",
       " ' ISSUE 02,  FEBRUARY 2020, ISSN 2277-8616  [9] Pallavi Kamath, Pallavi Patil, Shrilatha S, Sushma, Sowmya S, Crop  Yield Forecasting using Data Mining, Global Transitions Proceedings,  2021, ISSN 2666-285X, https://doi.',\n",
       " 'org/10.',\n",
       " '1016/j.',\n",
       " 'gltp.',\n",
       " '2021.',\n",
       " '08.',\n",
       " '008  [10] Kiran M.',\n",
       " ' Sabu, T.',\n",
       " 'K.',\n",
       " ' Manoj Kumar, Predictive analytics in Agriculture:  Forecasting prices of Arecanuts in Kerala, Procedia Computer Science,  Volume  171,2020,  Pages  699-708,  ISSN  1877-  0509,  https://doi.',\n",
       " 'org/10.',\n",
       " '1016/j.',\n",
       " 'procs.',\n",
       " '2020.',\n",
       " '04.',\n",
       " '076.',\n",
       " '      ']"
      ]
     },
     "execution_count": 11,
     "metadata": {},
     "output_type": "execute_result"
    }
   ],
   "source": [
    "sentences"
   ]
  },
  {
   "cell_type": "code",
   "execution_count": 12,
   "id": "6bd50b74",
   "metadata": {},
   "outputs": [
    {
     "data": {
      "text/plain": [
       "8"
      ]
     },
     "execution_count": 12,
     "metadata": {},
     "output_type": "execute_result"
    }
   ],
   "source": [
    "len(chunks)"
   ]
  },
  {
   "cell_type": "code",
   "execution_count": 13,
   "id": "7fe3047b",
   "metadata": {},
   "outputs": [],
   "source": [
    "res = summarizer(chunks, max_length=120, min_length=30, do_sample=False)\n"
   ]
  },
  {
   "cell_type": "code",
   "execution_count": 14,
   "id": "3298ffd1",
   "metadata": {},
   "outputs": [
    {
     "data": {
      "text/plain": [
       "[{'summary_text': ' About 60% of total agriculturalists in India are poor and can’t afford heavy robotics to take  advantage of the technology . Farmers are sometimes oblivious of the disease in the crop and the market prices of the products . A multilingual platform has been proposed which can  be accessed by all people and from where the farmers can easily  get the current price of their crops in the market .'},\n",
       " {'summary_text': ' A major part of the farming community in India is either unaware of these  technologies or they aren’t able to afford them due to immense  prices . The enhancement in the field of machine learning has  brought a revolution in overall surveillance and production . The objective of the paper is to make the  farming community aware of technology advancements and  make heavy technology available to them on an easy platform .'},\n",
       " {'summary_text': ' Machine-learning algorithms are performed on Python 3. 7 (Jupyter Notebook) using inbuilt libraries: Numpy, Pandas, Scikit-learn built on tensorflow backend . KNN is a supervised model and uses a labeled dataset to comprehend and render crop produce . The model is used to foreshadow optimal fertilizer for raising the nutrients of the soil .'},\n",
       " {'summary_text': ' The proposed  model can identify leaves with multiple diseases with 90%  accuracy and overall 96. 25% on the validation dataset is accomplished . Various Image Augmentation  techniques are included to improve the dataset size, and  subsequentially, the model’s accuracy boosts .'},\n",
       " {'summary_text': ' The proposed work was separated into four modules liable  for four operations namely disease prediction, fertilizer  prediction, crop recommendation, and future price  prediction for crops . LSTM was found to be a more appropriate model for forewarning the prices . The entire system can be translated to any language making it user-friendly .'},\n",
       " {'summary_text': ' The website is built using HTML, CSS, and JS . K Nearest Neighbor (KNN) algorithm was used to  give the best crop corresponding to the weather conditions . Crop recommendation module deals with data concerning  weather conditions like average rainfall .'},\n",
       " {'summary_text': ' The recommendation model was trained using various classifier which has been depicted in table 1 . Among which Random Forest was chosen for the best accuracy of 99. 3% . The system can be combined  with drone technology to perform pesticide spraying only at the target plant .'},\n",
       " {'summary_text': ' P.  Bansal, Rahul Kumar, and Somesh Kumar,(2021), \"Disease  Detection in Apple Leaves Using Deep Convolutional Neural Network\", ABV-Indian Institute of Information Technology & Management  Gwalior, India . ”Prediction of Land Suitability for Crop Cultivation based on Soil and Environmental Characteristics Using Modified Recursive Feature  Elimination Technique With Various Classifiers,” in IEEE Transactions on Computational Social Systems, vol.  8, no. 5, 2021 .'}]"
      ]
     },
     "execution_count": 14,
     "metadata": {},
     "output_type": "execute_result"
    }
   ],
   "source": [
    "res"
   ]
  },
  {
   "cell_type": "code",
   "execution_count": 15,
   "id": "02013e67",
   "metadata": {},
   "outputs": [
    {
     "data": {
      "text/plain": [
       "' About 60% of total agriculturalists in India are poor and can’t afford heavy robotics to take  advantage of the technology . Farmers are sometimes oblivious of the disease in the crop and the market prices of the products . A multilingual platform has been proposed which can  be accessed by all people and from where the farmers can easily  get the current price of their crops in the market .  A major part of the farming community in India is either unaware of these  technologies or they aren’t able to afford them due to immense  prices . The enhancement in the field of machine learning has  brought a revolution in overall surveillance and production . The objective of the paper is to make the  farming community aware of technology advancements and  make heavy technology available to them on an easy platform .  Machine-learning algorithms are performed on Python 3. 7 (Jupyter Notebook) using inbuilt libraries: Numpy, Pandas, Scikit-learn built on tensorflow backend . KNN is a supervised model and uses a labeled dataset to comprehend and render crop produce . The model is used to foreshadow optimal fertilizer for raising the nutrients of the soil .  The proposed  model can identify leaves with multiple diseases with 90%  accuracy and overall 96. 25% on the validation dataset is accomplished . Various Image Augmentation  techniques are included to improve the dataset size, and  subsequentially, the model’s accuracy boosts .  The proposed work was separated into four modules liable  for four operations namely disease prediction, fertilizer  prediction, crop recommendation, and future price  prediction for crops . LSTM was found to be a more appropriate model for forewarning the prices . The entire system can be translated to any language making it user-friendly .  The website is built using HTML, CSS, and JS . K Nearest Neighbor (KNN) algorithm was used to  give the best crop corresponding to the weather conditions . Crop recommendation module deals with data concerning  weather conditions like average rainfall .  The recommendation model was trained using various classifier which has been depicted in table 1 . Among which Random Forest was chosen for the best accuracy of 99. 3% . The system can be combined  with drone technology to perform pesticide spraying only at the target plant .  P.  Bansal, Rahul Kumar, and Somesh Kumar,(2021), \"Disease  Detection in Apple Leaves Using Deep Convolutional Neural Network\", ABV-Indian Institute of Information Technology & Management  Gwalior, India . ”Prediction of Land Suitability for Crop Cultivation based on Soil and Environmental Characteristics Using Modified Recursive Feature  Elimination Technique With Various Classifiers,” in IEEE Transactions on Computational Social Systems, vol.  8, no. 5, 2021 .'"
      ]
     },
     "execution_count": 15,
     "metadata": {},
     "output_type": "execute_result"
    }
   ],
   "source": [
    "' '.join([summ['summary_text'] for summ in res])"
   ]
  },
  {
   "cell_type": "code",
   "execution_count": 16,
   "id": "d62fc551",
   "metadata": {},
   "outputs": [],
   "source": [
    "text = ' '.join([summ['summary_text'] for summ in res])"
   ]
  },
  {
   "cell_type": "code",
   "execution_count": 17,
   "id": "f3ce77bf",
   "metadata": {},
   "outputs": [],
   "source": [
    "with open('pap4.txt', 'w') as f:\n",
    "    f.write(text)"
   ]
  },
  {
   "cell_type": "code",
   "execution_count": 21,
   "id": "3913b604",
   "metadata": {},
   "outputs": [],
   "source": []
  },
  {
   "cell_type": "code",
   "execution_count": null,
   "id": "04551e02",
   "metadata": {},
   "outputs": [],
   "source": []
  }
 ],
 "metadata": {
  "kernelspec": {
   "display_name": "Python 3 (ipykernel)",
   "language": "python",
   "name": "python3"
  },
  "language_info": {
   "codemirror_mode": {
    "name": "ipython",
    "version": 3
   },
   "file_extension": ".py",
   "mimetype": "text/x-python",
   "name": "python",
   "nbconvert_exporter": "python",
   "pygments_lexer": "ipython3",
   "version": "3.9.7"
  }
 },
 "nbformat": 4,
 "nbformat_minor": 5
}
